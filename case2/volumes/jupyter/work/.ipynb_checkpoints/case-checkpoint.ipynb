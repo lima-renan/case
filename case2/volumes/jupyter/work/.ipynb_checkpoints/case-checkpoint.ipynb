{
 "cells": [
  {
   "cell_type": "code",
   "execution_count": 12,
   "id": "299ccc7b-44f6-4e70-ab04-3d019738e07f",
   "metadata": {
    "tags": []
   },
   "outputs": [
    {
     "name": "stdout",
     "output_type": "stream",
     "text": [
      "[['trino-coordinator', 'http://192.168.80.6:8080', '412', True, 'active']]\n"
     ]
    }
   ],
   "source": [
    "import trino\n",
    "conn = trino.dbapi.connect(\n",
    "    host='trino-coordinator',\n",
    "    port=8080,\n",
    "    user='poc',\n",
    "    catalog='postgresql',\n",
    ")\n",
    "cur = conn.cursor()\n",
    "cur.execute('SELECT * FROM system.runtime.nodes')\n",
    "print(cur.fetchall())"
   ]
  },
  {
   "cell_type": "code",
   "execution_count": 13,
   "id": "fb4df84a-5258-41ff-b38d-4da9fb55846b",
   "metadata": {},
   "outputs": [
    {
     "name": "stdout",
     "output_type": "stream",
     "text": [
      "[['postgres'], ['system']]\n"
     ]
    }
   ],
   "source": [
    "cur.execute('SHOW CATALOGS')\n",
    "rows = cur.fetchall()\n",
    "print(rows)"
   ]
  },
  {
   "cell_type": "code",
   "execution_count": 14,
   "id": "778adf02-bb2f-4e36-bf3d-81ef0a7d816d",
   "metadata": {},
   "outputs": [
    {
     "name": "stdout",
     "output_type": "stream",
     "text": [
      "[['information_schema'], ['pg_catalog'], ['public']]\n"
     ]
    }
   ],
   "source": [
    "cur.execute('SHOW SCHEMAS FROM postgres')\n",
    "rows = cur.fetchall()\n",
    "print(rows)"
   ]
  },
  {
   "cell_type": "code",
   "execution_count": 15,
   "id": "81094d95-239e-4c6d-aaaf-e875d2ef07dd",
   "metadata": {},
   "outputs": [
    {
     "name": "stdout",
     "output_type": "stream",
     "text": [
      "[['tb_base_17_raw'], ['tb_base_17_staging'], ['tb_base_18_raw'], ['tb_base_18_staging'], ['tb_base_19_raw'], ['tb_base_19_staging'], ['tb_base_trusted'], ['tb_consol_vend_ano_mes'], ['tb_consol_vend_linha_ano_mes'], ['tb_consol_vend_marca_ano_mes'], ['tb_consol_vend_marca_linha']]\n"
     ]
    }
   ],
   "source": [
    "cur.execute('SHOW TABLES FROM postgres.public')\n",
    "rows = cur.fetchall()\n",
    "print(rows)"
   ]
  },
  {
   "cell_type": "code",
   "execution_count": 16,
   "id": "b3a5f9e6-c338-426b-8ec0-42c2c2065faf",
   "metadata": {},
   "outputs": [
    {
     "name": "stdout",
     "output_type": "stream",
     "text": [
      "[['EUDORA', 'SOLAR', 849], ['QUEM DISSE BERENICE', 'HIDRATANTES', 926], ['BOTICÁRIO', 'CABELOS', 1093], ['BELEZA NA WEB', 'HIDRATANTES', 729], ['QUEM DISSE BERENICE', 'SOLAR', 1034], ['BOTICÁRIO', 'PERFUMARIA', 714], ['BELEZA NA WEB', 'PERFUMARIA', 699], ['VULT', 'MAQUIAGEM', 835], ['VULT', 'CABELOS', 939], ['QUEM DISSE BERENICE', 'CABELOS', 648], ['EUDORA', 'MAQUIAGEM', 772], ['VULT', 'PERFUMARIA', 919], ['VULT', 'HIDRATANTES', 819], ['EUDORA', 'HIDRATANTES', 727], ['VULT', 'SOLAR', 876], ['BELEZA NA WEB', 'SOLAR', 781], ['QUEM DISSE BERENICE', 'PERFUMARIA', 970], ['BOTICÁRIO', 'HIDRATANTES', 778], ['BOTICÁRIO', 'SOLAR', 823], ['BELEZA NA WEB', 'CABELOS', 720]]\n"
     ]
    }
   ],
   "source": [
    "cur.execute('SELECT * FROM postgres.public.tb_consol_vend_marca_linha LIMIT 20')\n",
    "rows = cur.fetchall()\n",
    "print(rows)"
   ]
  },
  {
   "cell_type": "code",
   "execution_count": 17,
   "id": "589084f1-b69d-46bd-a001-2d1ac17d3718",
   "metadata": {
    "tags": []
   },
   "outputs": [
    {
     "name": "stdout",
     "output_type": "stream",
     "text": [
      "Requirement already satisfied: spotipy in /opt/conda/lib/python3.10/site-packages (2.22.1)\n",
      "Requirement already satisfied: redis>=3.5.3 in /opt/conda/lib/python3.10/site-packages (from spotipy) (4.5.4)\n",
      "Requirement already satisfied: requests>=2.25.0 in /opt/conda/lib/python3.10/site-packages (from spotipy) (2.28.2)\n",
      "Requirement already satisfied: six>=1.15.0 in /opt/conda/lib/python3.10/site-packages (from spotipy) (1.16.0)\n",
      "Requirement already satisfied: urllib3>=1.26.0 in /opt/conda/lib/python3.10/site-packages (from spotipy) (1.26.15)\n",
      "Requirement already satisfied: async-timeout>=4.0.2 in /opt/conda/lib/python3.10/site-packages (from redis>=3.5.3->spotipy) (4.0.2)\n",
      "Requirement already satisfied: idna<4,>=2.5 in /opt/conda/lib/python3.10/site-packages (from requests>=2.25.0->spotipy) (3.4)\n",
      "Requirement already satisfied: charset-normalizer<4,>=2 in /opt/conda/lib/python3.10/site-packages (from requests>=2.25.0->spotipy) (3.1.0)\n",
      "Requirement already satisfied: certifi>=2017.4.17 in /opt/conda/lib/python3.10/site-packages (from requests>=2.25.0->spotipy) (2022.12.7)\n"
     ]
    }
   ],
   "source": [
    "#API Spotify\n",
    "!pip install spotipy\n",
    "import spotipy\n",
    "import spotipy.util as util\n",
    "from spotipy.oauth2 import SpotifyClientCredentials\n",
    "import spotipy.oauth2 as oauth2\n",
    "import json"
   ]
  },
  {
   "cell_type": "code",
   "execution_count": 22,
   "id": "567dd474-7d85-412a-907c-b15552aeccc9",
   "metadata": {
    "tags": []
   },
   "outputs": [],
   "source": [
    "CLIENT_ID = \"bc717dc0f73f44af95e07475dc4c970a\"\n",
    "CLIENT_SECRET = \"14462c52300d4d8ea6c7071ef1900bb0\"\n",
    "\n",
    "credentials = oauth2.SpotifyClientCredentials(\n",
    "        client_id=CLIENT_ID,\n",
    "        client_secret=CLIENT_SECRET)\n",
    "\n"
   ]
  },
  {
   "cell_type": "code",
   "execution_count": null,
   "id": "7cf2a92d-04a8-40d5-9411-0c7c0e7ed7cb",
   "metadata": {},
   "outputs": [],
   "source": []
  },
  {
   "cell_type": "code",
   "execution_count": null,
   "id": "9759a3c6-01c2-442e-befe-12205b4cc981",
   "metadata": {},
   "outputs": [],
   "source": []
  },
  {
   "cell_type": "code",
   "execution_count": null,
   "id": "0f94c539-dde5-49eb-aaa3-bbc9483a7605",
   "metadata": {},
   "outputs": [],
   "source": []
  }
 ],
 "metadata": {
  "kernelspec": {
   "display_name": "Python 3 (ipykernel)",
   "language": "python",
   "name": "python3"
  },
  "language_info": {
   "codemirror_mode": {
    "name": "ipython",
    "version": 3
   },
   "file_extension": ".py",
   "mimetype": "text/x-python",
   "name": "python",
   "nbconvert_exporter": "python",
   "pygments_lexer": "ipython3",
   "version": "3.10.10"
  }
 },
 "nbformat": 4,
 "nbformat_minor": 5
}
